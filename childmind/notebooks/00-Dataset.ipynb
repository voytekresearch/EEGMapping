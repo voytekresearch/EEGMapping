{
 "cells": [
  {
   "cell_type": "markdown",
   "metadata": {},
   "source": [
    "# ChildMind Dataset\n",
    "\n",
    "### About the dataset\n",
    "\n",
    "The EEG data used is a database collected and made available by the Child Mind Institute. \n",
    "\n",
    "It is part of the Multimodal Resource for Studying Information Processing in the Developing Brain (MIPDB) database.\n",
    "\n",
    "MIPDB Link: http://fcon_1000.projects.nitrc.org/indi/cmi_eeg/\n",
    "\n",
    "EEG Data Link: http://fcon_1000.projects.nitrc.org/indi/cmi_eeg/eeg.html\n"
   ]
  },
  {
   "cell_type": "code",
   "execution_count": 1,
   "metadata": {},
   "outputs": [],
   "source": [
    "import os\n",
    "\n",
    "import numpy as np\n",
    "import pandas as pd\n",
    "from scipy.stats import sem"
   ]
  },
  {
   "cell_type": "code",
   "execution_count": 2,
   "metadata": {},
   "outputs": [],
   "source": [
    "# Import custom project related code\n",
    "import sys\n",
    "sys.path.append('../code')\n",
    "\n",
    "from db import EEGDB\n",
    "from utils import load_pickle"
   ]
  },
  {
   "cell_type": "code",
   "execution_count": 3,
   "metadata": {},
   "outputs": [],
   "source": [
    "# Initialize project database object\n",
    "db = EEGDB()\n",
    "subjs = db.check_subjs()"
   ]
  },
  {
   "cell_type": "markdown",
   "metadata": {},
   "source": [
    "## README"
   ]
  },
  {
   "cell_type": "code",
   "execution_count": 4,
   "metadata": {},
   "outputs": [],
   "source": [
    "# Load data readme file\n",
    "rmd_file = os.path.join(db.data_path, 'EEG', 'MIPDB_PublicFile.csv')\n",
    "df = pd.read_csv(rmd_file)"
   ]
  },
  {
   "cell_type": "code",
   "execution_count": 5,
   "metadata": {},
   "outputs": [
    {
     "name": "stdout",
     "output_type": "stream",
     "text": [
      "Number of subjects downloaded:  120\n",
      "Number of subjects left to download:  0\n"
     ]
    }
   ],
   "source": [
    "# Check which subjects are downloaded\n",
    "all_subjs = set(df.ID)\n",
    "\n",
    "# Subjects with no data (info from README)\n",
    "no_dat = ['A00052593', 'A00054122', 'A00055801', 'A00056158', 'A00056640', 'A00056990']\n",
    "\n",
    "# Check if any subjects still need downloading\n",
    "to_dl = all_subjs - set(subjs) - set(no_dat)\n",
    "\n",
    "# Print out results\n",
    "print('Number of subjects downloaded: ', len(set(subjs)))\n",
    "print('Number of subjects left to download: ', len(to_dl))"
   ]
  },
  {
   "cell_type": "code",
   "execution_count": 6,
   "metadata": {},
   "outputs": [
    {
     "data": {
      "text/html": [
       "<div>\n",
       "<style scoped>\n",
       "    .dataframe tbody tr th:only-of-type {\n",
       "        vertical-align: middle;\n",
       "    }\n",
       "\n",
       "    .dataframe tbody tr th {\n",
       "        vertical-align: top;\n",
       "    }\n",
       "\n",
       "    .dataframe thead th {\n",
       "        text-align: right;\n",
       "    }\n",
       "</style>\n",
       "<table border=\"1\" class=\"dataframe\">\n",
       "  <thead>\n",
       "    <tr style=\"text-align: right;\">\n",
       "      <th></th>\n",
       "      <th>ID</th>\n",
       "      <th>Age</th>\n",
       "      <th>Sex</th>\n",
       "      <th>Adult Handedness</th>\n",
       "      <th>Child Handedness</th>\n",
       "      <th>EEG_resting</th>\n",
       "      <th>EYE_resting</th>\n",
       "      <th>EEG_SurrSupp_Block1</th>\n",
       "      <th>BEH_SurrSupp_Block1</th>\n",
       "      <th>EYE_SurrSupp_Block1</th>\n",
       "      <th>...</th>\n",
       "      <th>EEG_Contrast_Change_Block3</th>\n",
       "      <th>BEH_Contrast_Change_Block3</th>\n",
       "      <th>EYE_Contrast_Change_Block3</th>\n",
       "      <th>EEG_Sequence_Learning</th>\n",
       "      <th>BEH_Sequence_Learning</th>\n",
       "      <th>EYE_Sequence_Learning</th>\n",
       "      <th>EEG_Symbol_Search</th>\n",
       "      <th>BEH_Symbol_Search</th>\n",
       "      <th>EYE_Symbol_Search</th>\n",
       "      <th>DX_Status</th>\n",
       "    </tr>\n",
       "  </thead>\n",
       "  <tbody>\n",
       "    <tr>\n",
       "      <th>0</th>\n",
       "      <td>A00051826</td>\n",
       "      <td>10</td>\n",
       "      <td>1</td>\n",
       "      <td>NaN</td>\n",
       "      <td>NaN</td>\n",
       "      <td>1</td>\n",
       "      <td>1</td>\n",
       "      <td>1</td>\n",
       "      <td>1</td>\n",
       "      <td>1</td>\n",
       "      <td>...</td>\n",
       "      <td>1</td>\n",
       "      <td>1</td>\n",
       "      <td>1</td>\n",
       "      <td>1</td>\n",
       "      <td>1</td>\n",
       "      <td>1</td>\n",
       "      <td>1</td>\n",
       "      <td>1</td>\n",
       "      <td>1</td>\n",
       "      <td>1</td>\n",
       "    </tr>\n",
       "    <tr>\n",
       "      <th>1</th>\n",
       "      <td>A00051886</td>\n",
       "      <td>12</td>\n",
       "      <td>1</td>\n",
       "      <td>NaN</td>\n",
       "      <td>NaN</td>\n",
       "      <td>1</td>\n",
       "      <td>1</td>\n",
       "      <td>1</td>\n",
       "      <td>1</td>\n",
       "      <td>1</td>\n",
       "      <td>...</td>\n",
       "      <td>1</td>\n",
       "      <td>1</td>\n",
       "      <td>1</td>\n",
       "      <td>1</td>\n",
       "      <td>1</td>\n",
       "      <td>1</td>\n",
       "      <td>1</td>\n",
       "      <td>1</td>\n",
       "      <td>1</td>\n",
       "      <td>1</td>\n",
       "    </tr>\n",
       "    <tr>\n",
       "      <th>2</th>\n",
       "      <td>A00051955</td>\n",
       "      <td>12</td>\n",
       "      <td>1</td>\n",
       "      <td>NaN</td>\n",
       "      <td>NaN</td>\n",
       "      <td>1</td>\n",
       "      <td>1</td>\n",
       "      <td>1</td>\n",
       "      <td>1</td>\n",
       "      <td>1</td>\n",
       "      <td>...</td>\n",
       "      <td>1</td>\n",
       "      <td>1</td>\n",
       "      <td>1</td>\n",
       "      <td>1</td>\n",
       "      <td>1</td>\n",
       "      <td>1</td>\n",
       "      <td>1</td>\n",
       "      <td>1</td>\n",
       "      <td>1</td>\n",
       "      <td>0</td>\n",
       "    </tr>\n",
       "    <tr>\n",
       "      <th>3</th>\n",
       "      <td>A00052593</td>\n",
       "      <td>11</td>\n",
       "      <td>2</td>\n",
       "      <td>NaN</td>\n",
       "      <td>3.0</td>\n",
       "      <td>0</td>\n",
       "      <td>0</td>\n",
       "      <td>0</td>\n",
       "      <td>0</td>\n",
       "      <td>0</td>\n",
       "      <td>...</td>\n",
       "      <td>0</td>\n",
       "      <td>0</td>\n",
       "      <td>0</td>\n",
       "      <td>0</td>\n",
       "      <td>0</td>\n",
       "      <td>0</td>\n",
       "      <td>0</td>\n",
       "      <td>0</td>\n",
       "      <td>0</td>\n",
       "      <td>1</td>\n",
       "    </tr>\n",
       "    <tr>\n",
       "      <th>4</th>\n",
       "      <td>A00053375</td>\n",
       "      <td>6</td>\n",
       "      <td>1</td>\n",
       "      <td>NaN</td>\n",
       "      <td>4.0</td>\n",
       "      <td>1</td>\n",
       "      <td>0</td>\n",
       "      <td>1</td>\n",
       "      <td>1</td>\n",
       "      <td>1</td>\n",
       "      <td>...</td>\n",
       "      <td>0</td>\n",
       "      <td>0</td>\n",
       "      <td>0</td>\n",
       "      <td>0</td>\n",
       "      <td>0</td>\n",
       "      <td>0</td>\n",
       "      <td>1</td>\n",
       "      <td>1</td>\n",
       "      <td>1</td>\n",
       "      <td>1</td>\n",
       "    </tr>\n",
       "  </tbody>\n",
       "</table>\n",
       "<p>5 rows × 38 columns</p>\n",
       "</div>"
      ],
      "text/plain": [
       "          ID  Age  Sex  Adult Handedness  Child Handedness  EEG_resting  \\\n",
       "0  A00051826   10    1               NaN               NaN            1   \n",
       "1  A00051886   12    1               NaN               NaN            1   \n",
       "2  A00051955   12    1               NaN               NaN            1   \n",
       "3  A00052593   11    2               NaN               3.0            0   \n",
       "4  A00053375    6    1               NaN               4.0            1   \n",
       "\n",
       "   EYE_resting  EEG_SurrSupp_Block1  BEH_SurrSupp_Block1  EYE_SurrSupp_Block1  \\\n",
       "0            1                    1                    1                    1   \n",
       "1            1                    1                    1                    1   \n",
       "2            1                    1                    1                    1   \n",
       "3            0                    0                    0                    0   \n",
       "4            0                    1                    1                    1   \n",
       "\n",
       "   ...  EEG_Contrast_Change_Block3  BEH_Contrast_Change_Block3  \\\n",
       "0  ...                           1                           1   \n",
       "1  ...                           1                           1   \n",
       "2  ...                           1                           1   \n",
       "3  ...                           0                           0   \n",
       "4  ...                           0                           0   \n",
       "\n",
       "   EYE_Contrast_Change_Block3  EEG_Sequence_Learning  BEH_Sequence_Learning  \\\n",
       "0                           1                      1                      1   \n",
       "1                           1                      1                      1   \n",
       "2                           1                      1                      1   \n",
       "3                           0                      0                      0   \n",
       "4                           0                      0                      0   \n",
       "\n",
       "   EYE_Sequence_Learning  EEG_Symbol_Search  BEH_Symbol_Search  \\\n",
       "0                      1                  1                  1   \n",
       "1                      1                  1                  1   \n",
       "2                      1                  1                  1   \n",
       "3                      0                  0                  0   \n",
       "4                      0                  1                  1   \n",
       "\n",
       "   EYE_Symbol_Search  DX_Status  \n",
       "0                  1          1  \n",
       "1                  1          1  \n",
       "2                  1          0  \n",
       "3                  0          1  \n",
       "4                  1          1  \n",
       "\n",
       "[5 rows x 38 columns]"
      ]
     },
     "execution_count": 6,
     "metadata": {},
     "output_type": "execute_result"
    }
   ],
   "source": [
    "# Check the dataframe of database info\n",
    "df.head()"
   ]
  },
  {
   "cell_type": "code",
   "execution_count": 7,
   "metadata": {},
   "outputs": [
    {
     "name": "stdout",
     "output_type": "stream",
     "text": [
      "Number of males: \t 69\n",
      "Number of females: \t 57\n"
     ]
    }
   ],
   "source": [
    "# Check distribution of sexes\n",
    "print('Number of males: \\t', sum(df.Sex == 1))\n",
    "print('Number of females: \\t', sum(df.Sex == 2))"
   ]
  },
  {
   "cell_type": "code",
   "execution_count": 8,
   "metadata": {},
   "outputs": [
    {
     "data": {
      "image/png": "[encoded data removed]",
      "text/plain": [
       "<Figure size 640x480 with 1 Axes>"
      ]
     },
     "metadata": {},
     "output_type": "display_data"
    }
   ],
   "source": [
    "# Age distribution\n",
    "df.hist('Age', grid=False, bins=25);"
   ]
  },
  {
   "cell_type": "code",
   "execution_count": 9,
   "metadata": {},
   "outputs": [
    {
     "name": "stdout",
     "output_type": "stream",
     "text": [
      "Ages: 6 - 44\n"
     ]
    }
   ],
   "source": [
    "# Check the age range\n",
    "print(\"Ages: {} - {}\".format(min(df.Age), max(df.Age)))"
   ]
  },
  {
   "cell_type": "markdown",
   "metadata": {},
   "source": [
    "## EEG Info"
   ]
  },
  {
   "cell_type": "code",
   "execution_count": 10,
   "metadata": {},
   "outputs": [],
   "source": [
    "# Load the file of interpolated channels\n",
    "interp_chs = load_pickle('childmind_interp_chs.p')"
   ]
  },
  {
   "cell_type": "code",
   "execution_count": 11,
   "metadata": {},
   "outputs": [],
   "source": [
    "# Get the number of interpolated channels per subject\n",
    "n_interp = [len(val) for val in interp_chs.values()]"
   ]
  },
  {
   "cell_type": "code",
   "execution_count": 12,
   "metadata": {},
   "outputs": [
    {
     "name": "stdout",
     "output_type": "stream",
     "text": [
      "Average number of interpolated: \t4.8120\n",
      "Standard error of the mean: \t\t0.1491\n"
     ]
    }
   ],
   "source": [
    "# Check info on interpolated channels\n",
    "print('Average number of interpolated: \\t{:1.4f}'.format(np.mean(n_interp)))\n",
    "print('Standard error of the mean: \\t\\t{:1.4f}'.format(sem(n_interp)))"
   ]
  }
 ],
 "metadata": {
  "kernelspec": {
   "display_name": "Python 3 (ipykernel)",
   "language": "python",
   "name": "python3"
  },
  "language_info": {
   "codemirror_mode": {
    "name": "ipython",
    "version": 3
   },
   "file_extension": ".py",
   "mimetype": "text/x-python",
   "name": "python",
   "nbconvert_exporter": "python",
   "pygments_lexer": "ipython3",
   "version": "3.8.3"
  }
 },
 "nbformat": 4,
 "nbformat_minor": 4
}
