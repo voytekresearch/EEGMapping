{
 "cells": [
  {
   "cell_type": "markdown",
   "metadata": {},
   "source": [
    "### Fit FOOOF (Check)"
   ]
  },
  {
   "cell_type": "code",
   "execution_count": null,
   "metadata": {},
   "outputs": [],
   "source": [
    "from fooof import FOOOF"
   ]
  },
  {
   "cell_type": "code",
   "execution_count": null,
   "metadata": {},
   "outputs": [],
   "source": [
    "# Settings\n",
    "f_range = [3, 35]"
   ]
  },
  {
   "cell_type": "code",
   "execution_count": null,
   "metadata": {},
   "outputs": [],
   "source": [
    "# Initialize spectral model object\n",
    "fm = FOOOF(peak_width_limits=[1, 8], max_n_peaks=6, min_peak_height=0.2)"
   ]
  },
  {
   "cell_type": "code",
   "execution_count": null,
   "metadata": {},
   "outputs": [],
   "source": [
    "# Fit FOOOF, to example PSD\n",
    "fm.report(eo_freqs, eo_avg_psds[65, :], f_range)"
   ]
  },
  {
   "cell_type": "code",
   "execution_count": null,
   "metadata": {},
   "outputs": [],
   "source": [
    "# Fit FOOOF to PSDs averaged across rest epochs\n",
    "fg = FOOOFGroup(peak_width_limits=[1, 8], max_n_peaks=6)\n",
    "\n",
    "fg.fit(eo_freqs, eo_avg_psds, f_range)\n",
    "exp_eo_avg = fg.get_params('aperiodic_params', 'exponent')\n",
    "\n",
    "fg.fit(ec_freqs, ec_avg_psds, f_range)\n",
    "exp_ec_avg = fg.get_params('aperiodic_params', 'exponent')"
   ]
  },
  {
   "cell_type": "code",
   "execution_count": null,
   "metadata": {},
   "outputs": [],
   "source": [
    "# Fit FOOOF to PSDs from each epoch\n",
    "\n",
    "eo_fgs = []\n",
    "for ep_psds in eo_psds:\n",
    "    fg.fit(eo_freqs, ep_psds, f_range)\n",
    "    eo_fgs.append(fg.copy())\n",
    "    \n",
    "exp_eo = [fg.get_params('aperiodic_params', 'exponent') for fg in eo_fgs]\n",
    "    \n",
    "ec_fgs = []\n",
    "for ep_psds in ec_psds:\n",
    "    fg.fit(ec_freqs, ep_psds, f_range)\n",
    "    ec_fgs.append(fg.copy())\n",
    "    \n",
    "exp_ec = [fg.get_params('aperiodic_params', 'exponent') for fg in ec_fgs]"
   ]
  },
  {
   "cell_type": "code",
   "execution_count": null,
   "metadata": {},
   "outputs": [],
   "source": [
    "# Get the average exponent values \n",
    "eo_avgs = [np.mean(exps) for exps in exp_eo]\n",
    "ec_avgs = [np.mean(exps) for exps in exp_ec]\n",
    "\n",
    "# Check out the average values\n",
    "print(np.mean(eo_avgs))\n",
    "print(np.mean(ec_avgs))"
   ]
  },
  {
   "cell_type": "code",
   "execution_count": null,
   "metadata": {},
   "outputs": [],
   "source": [
    "# Check range of slopes\n",
    "print(min(exp_eo_avg))\n",
    "print(max(exp_eo_avg))\n",
    "\n",
    "print(min(exp_ec_avg))\n",
    "print(max(exp_ec_avg))"
   ]
  },
  {
   "cell_type": "code",
   "execution_count": null,
   "metadata": {},
   "outputs": [],
   "source": [
    "# Collect data together\n",
    "subj_dat = {\n",
    "    'ID' : cur_subj,\n",
    "    'exp_eo_avg' : exp_eo_avg,\n",
    "    'exp_ec_avg' : exp_ec_avg,\n",
    "    'exp_eo' : exp_eo,\n",
    "    'exp_ec' : exp_ec\n",
    "}"
   ]
  },
  {
   "cell_type": "code",
   "execution_count": null,
   "metadata": {},
   "outputs": [],
   "source": [
    "# Save out data\n",
    "#f_name = 'test_subj.p'\n",
    "#save_pickle(subj_dat, f_name, db.fooof_path)"
   ]
  },
  {
   "cell_type": "code",
   "execution_count": null,
   "metadata": {},
   "outputs": [],
   "source": [
    "# Check for saved FOOOF files\n",
    "#fres_files = db.check_fooof()\n",
    "#f_ind = fres_files.index(f_name)"
   ]
  },
  {
   "cell_type": "code",
   "execution_count": null,
   "metadata": {},
   "outputs": [],
   "source": [
    "# Load pickle file of FOOOF results\n",
    "#dat = load_pickle(fres_files[f_ind], db.fooof_path)"
   ]
  },
  {
   "cell_type": "markdown",
   "metadata": {},
   "source": [
    "### Epoch Correlations"
   ]
  },
  {
   "cell_type": "code",
   "execution_count": null,
   "metadata": {},
   "outputs": [],
   "source": [
    "# Check correlations between epochs\n",
    "corrs_eo = comb_corrs(exp_eo)\n",
    "print('Corrs within EO: \\t', np.mean(corrs_eo))\n",
    "    \n",
    "corrs_ec = comb_corrs(exp_ec)\n",
    "print('Corrs within EC: \\t', np.mean(corrs_ec))\n",
    "\n",
    "corrs_bet = bet_corrs(exp_eo, exp_ec)\n",
    "print('Corrs betwee EC/EO: \\t', np.mean(corrs_bet))"
   ]
  },
  {
   "cell_type": "code",
   "execution_count": null,
   "metadata": {},
   "outputs": [],
   "source": [
    "### Topography Plots"
   ]
  },
  {
   "cell_type": "code",
   "execution_count": null,
   "metadata": {},
   "outputs": [],
   "source": [
    "# Plot exponent topography from average eyes-open data\n",
    "mne.viz.plot_topomap(exp_eo_avg, raw.info, cmap=cm.viridis, contours=0);"
   ]
  },
  {
   "cell_type": "code",
   "execution_count": null,
   "metadata": {},
   "outputs": [],
   "source": [
    "# Plot exponent topography from average eyes-closed data\n",
    "mne.viz.plot_topomap(exp_ec_avg, raw.info, cmap=cm.viridis, contours=0);"
   ]
  },
  {
   "cell_type": "code",
   "execution_count": null,
   "metadata": {},
   "outputs": [],
   "source": [
    "# Calculate difference plot between EC and EO\n",
    "diff_exp = [sec - seo for sec, seo in zip(sls_ec_avg, sls_eo_avg)]\n",
    "\n",
    "print(min(diff_sl))\n",
    "print(max(diff_sl))"
   ]
  },
  {
   "cell_type": "code",
   "execution_count": null,
   "metadata": {},
   "outputs": [],
   "source": [
    "# Plot difference map between EC and EO\n",
    "mne.viz.plot_topomap(diff_exp, raw.info, contours=0);"
   ]
  }
 ],
 "metadata": {
  "kernelspec": {
   "display_name": "Python 3 (ipykernel)",
   "language": "python",
   "name": "python3"
  },
  "language_info": {
   "codemirror_mode": {
    "name": "ipython",
    "version": 3
   },
   "file_extension": ".py",
   "mimetype": "text/x-python",
   "name": "python",
   "nbconvert_exporter": "python",
   "pygments_lexer": "ipython3",
   "version": "3.8.3"
  }
 },
 "nbformat": 4,
 "nbformat_minor": 2
}
